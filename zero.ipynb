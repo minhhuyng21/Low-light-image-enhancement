{
 "cells": [
  {
   "cell_type": "code",
   "execution_count": null,
   "id": "5a82f235",
   "metadata": {},
   "outputs": [
    {
     "name": "stdout",
     "output_type": "stream",
     "text": [
      "Đang xử lý video (1224 frames)...\n"
     ]
    },
    {
     "ename": "TypeError",
     "evalue": "VEVID.run() got an unexpected keyword argument 'frame'",
     "output_type": "error",
     "traceback": [
      "\u001b[31m---------------------------------------------------------------------------\u001b[39m",
      "\u001b[31mTypeError\u001b[39m                                 Traceback (most recent call last)",
      "\u001b[36mCell\u001b[39m\u001b[36m \u001b[39m\u001b[32mIn[2]\u001b[39m\u001b[32m, line 48\u001b[39m\n\u001b[32m     45\u001b[39m frame_rgb = cv2.cvtColor(frame, cv2.COLOR_BGR2RGB)\n\u001b[32m     47\u001b[39m \u001b[38;5;66;03m# Chạy VEViD (full mode)\u001b[39;00m\n\u001b[32m---> \u001b[39m\u001b[32m48\u001b[39m enhanced = \u001b[43mvevid\u001b[49m\u001b[43m.\u001b[49m\u001b[43mrun\u001b[49m\u001b[43m(\u001b[49m\u001b[43mframe\u001b[49m\u001b[43m=\u001b[49m\u001b[43mframe_rgb\u001b[49m\u001b[43m,\u001b[49m\u001b[43m \u001b[49m\u001b[43mS\u001b[49m\u001b[43m=\u001b[49m\u001b[43mS\u001b[49m\u001b[43m,\u001b[49m\u001b[43m \u001b[49m\u001b[43mT\u001b[49m\u001b[43m=\u001b[49m\u001b[43mT\u001b[49m\u001b[43m,\u001b[49m\u001b[43m \u001b[49m\u001b[43mb\u001b[49m\u001b[43m=\u001b[49m\u001b[43mb\u001b[49m\u001b[43m,\u001b[49m\u001b[43m \u001b[49m\u001b[43mG\u001b[49m\u001b[43m=\u001b[49m\u001b[43mG\u001b[49m\u001b[43m)\u001b[49m\n\u001b[32m     50\u001b[39m \u001b[38;5;66;03m# Chuyển RGB → BGR để ghi video\u001b[39;00m\n\u001b[32m     51\u001b[39m enhanced_bgr = cv2.cvtColor(enhanced, cv2.COLOR_RGB2BGR)\n",
      "\u001b[31mTypeError\u001b[39m: VEVID.run() got an unexpected keyword argument 'frame'"
     ]
    }
   ],
   "source": [
    "import os\n",
    "# import matplotlib.pyplot as plt\n",
    "import torch\n",
    "import cv2\n",
    "import sys\n",
    "from phycv.vevid import VEVID\n",
    "\n",
    "output_dir = \"result\"\n",
    "# you can change this to your own image\n",
    "img_file = r\"D:\\AI\\Low-light-image-enhancement\\Screenshot (11).png\"\n",
    "# original_image = cv2.imread(img_file)\n",
    "\n",
    "# VEViD parameters\n",
    "S = 0.2\n",
    "T = 0.001\n",
    "b = 0.16\n",
    "G = 1.4\n",
    "\n",
    "img = cv2.imread(img_file)\n",
    "vevid = VEVID(h=img.shape[0], w=img.shape[1])\n",
    "vevid_output = vevid.run(img_file=img_file, S=S, T=T, b=b, G=G)\n",
    "\n",
    "# run VEViD-Lite\n",
    "vevid_lite_output = vevid.run_lite(img_file=img_file, b=b, G=G)\n",
    "os.makedirs(output_dir, exist_ok=True)\n",
    "\n",
    "# Lưu ảnh gốc và ảnh enhanced\n",
    "base_name = os.path.splitext(os.path.basename(img_file))[0]\n",
    "vevid_bgr = cv2.cvtColor(vevid_output, cv2.COLOR_RGB2BGR)\n",
    "# Sau đó lưu\n",
    "cv2.imwrite(os.path.join(output_dir, f\"{base_name}_enhanced.png\"), vevid_bgr)\n",
    "print(f\"Saved results to '{output_dir}/' ✅\")\n"
   ]
  },
  {
   "cell_type": "code",
   "execution_count": 3,
   "id": "bfe77344",
   "metadata": {},
   "outputs": [
    {
     "name": "stdout",
     "output_type": "stream",
     "text": [
      "Checking VEVID functionality... OK ✅\n",
      "Saved results to 'results/' ✅\n"
     ]
    }
   ],
   "source": [
    "import os\n",
    "import cv2\n",
    "import numpy as np\n",
    "from phycv.vevid import VEVID  # import trực tiếp từ submodule cho chắc\n",
    "\n",
    "def check_vevid():\n",
    "    print(\"Checking VEVID functionality...\", end=\" \")\n",
    "    try:\n",
    "        dummy = np.full((100, 100, 3), 128, dtype=np.uint8)\n",
    "        cv2.imwrite(\"dummy.png\", dummy)\n",
    "\n",
    "        v = VEVID()\n",
    "        out = v.run_lite(img_file=\"dummy.png\", b=0.1, G=1.0)\n",
    "        os.remove(\"dummy.png\")\n",
    "\n",
    "        if isinstance(out, np.ndarray) and out.shape == dummy.shape:\n",
    "            print(\"OK ✅\")\n",
    "            return True\n",
    "        else:\n",
    "            print(\"Unexpected output:\", type(out), getattr(out, 'shape', None))\n",
    "            return False\n",
    "\n",
    "    except Exception as e:\n",
    "        print(\"FAILED ❌\")\n",
    "        print(\"Error:\", str(e))\n",
    "        return False\n",
    "\n",
    "\n",
    "def enhance_and_save(img_path, params, output_dir=\"results\"):\n",
    "    \"\"\"\n",
    "    Đọc ảnh, tăng cường bằng VEVID, và lưu kết quả vào thư mục.\n",
    "    params: dict chứa S, T, b, G\n",
    "    \"\"\"\n",
    "    img = cv2.imread(img_path)\n",
    "    if img is None:\n",
    "        raise FileNotFoundError(f\"Cannot load image at {img_path}\")\n",
    "\n",
    "    vevid = VEVID(h=img.shape[0], w=img.shape[1])\n",
    "    enhanced_full = vevid.run(img_file=img_path,\n",
    "                              S=params['S'],\n",
    "                              T=params['T'],\n",
    "                              b=params['b'],\n",
    "                              G=params['G'])\n",
    "\n",
    "    # Tạo thư mục nếu chưa có\n",
    "    os.makedirs(output_dir, exist_ok=True)\n",
    "\n",
    "    # Lưu ảnh gốc và ảnh enhanced\n",
    "    base_name = os.path.splitext(os.path.basename(img_path))[0]\n",
    "    cv2.imwrite(os.path.join(output_dir, f\"{base_name}_enhanced.png\"), enhanced_full)\n",
    "    print(f\"Saved results to '{output_dir}/' ✅\")\n",
    "\n",
    "\n",
    "if __name__ == \"__main__\":\n",
    "    if not check_vevid():\n",
    "        print(\"VEVID không hoạt động. Vui lòng kiểm tra import, sys.path hoặc cài đặt package.\")\n",
    "        exit(1)\n",
    "\n",
    "    IMG_FILE = r\"D:\\AI\\Low-light-image-enhancement\\phycv\\assets\\input_images\\dark_road.jpeg\"\n",
    "    params = {\n",
    "        \"S\": 0.2,\n",
    "        \"T\": 0.01,\n",
    "        \"b\": 0.16,\n",
    "        \"G\": 1.4\n",
    "    }\n",
    "\n",
    "    enhance_and_save(IMG_FILE, params)\n"
   ]
  }
 ],
 "metadata": {
  "kernelspec": {
   "display_name": "khkt2026",
   "language": "python",
   "name": "python3"
  },
  "language_info": {
   "codemirror_mode": {
    "name": "ipython",
    "version": 3
   },
   "file_extension": ".py",
   "mimetype": "text/x-python",
   "name": "python",
   "nbconvert_exporter": "python",
   "pygments_lexer": "ipython3",
   "version": "3.12.7"
  }
 },
 "nbformat": 4,
 "nbformat_minor": 5
}
